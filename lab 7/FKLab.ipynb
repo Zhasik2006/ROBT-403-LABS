{
 "cells": [
  {
   "cell_type": "code",
   "execution_count": 15,
   "metadata": {},
   "outputs": [],
   "source": [
    "import numpy as np \n",
    "import keras\n",
    "from keras.models import Sequential\n",
    "from keras.layers import Dense, Flatten, Dropout\n",
    "from keras.optimizers import Adam\n",
    "from keras.utils import np_utils \n",
    "from keras import backend as K \n",
    "import pandas as pd\n",
    "from sklearn.model_selection import train_test_split"
   ]
  },
  {
   "cell_type": "code",
   "execution_count": 87,
   "metadata": {},
   "outputs": [],
   "source": [
    "data = pd.read_csv(\"dict.csv\", header = None, names = [\"Angles\", \"XY\"])"
   ]
  },
  {
   "cell_type": "code",
   "execution_count": 88,
   "metadata": {},
   "outputs": [
    {
     "data": {
      "text/html": [
       "<div>\n",
       "<style scoped>\n",
       "    .dataframe tbody tr th:only-of-type {\n",
       "        vertical-align: middle;\n",
       "    }\n",
       "\n",
       "    .dataframe tbody tr th {\n",
       "        vertical-align: top;\n",
       "    }\n",
       "\n",
       "    .dataframe thead th {\n",
       "        text-align: right;\n",
       "    }\n",
       "</style>\n",
       "<table border=\"1\" class=\"dataframe\">\n",
       "  <thead>\n",
       "    <tr style=\"text-align: right;\">\n",
       "      <th></th>\n",
       "      <th>Angles</th>\n",
       "      <th>XY</th>\n",
       "    </tr>\n",
       "  </thead>\n",
       "  <tbody>\n",
       "    <tr>\n",
       "      <td>0</td>\n",
       "      <td>(0.3514, -0.2365, -0.1968, -0.1949, -0.0863)</td>\n",
       "      <td>[ 3.3793 -1.2376  0.25  ]</td>\n",
       "    </tr>\n",
       "    <tr>\n",
       "      <td>1</td>\n",
       "      <td>(0.3094, 0.4925, 0.4629, -0.1565, 0.3523)</td>\n",
       "      <td>[2.061  2.5772 0.25  ]</td>\n",
       "    </tr>\n",
       "    <tr>\n",
       "      <td>2</td>\n",
       "      <td>(0.1157, -0.4121, 0.0578, 0.3772, 0.428)</td>\n",
       "      <td>[3.4905 0.9227 0.25  ]</td>\n",
       "    </tr>\n",
       "    <tr>\n",
       "      <td>3</td>\n",
       "      <td>(0.339, -0.1037, -0.2424, 0.2975, 0.0062)</td>\n",
       "      <td>[ 3.6355 -0.1753  0.25  ]</td>\n",
       "    </tr>\n",
       "    <tr>\n",
       "      <td>4</td>\n",
       "      <td>(0.2312, -0.4059, -0.0095, 0.4335, 0.4635)</td>\n",
       "      <td>[3.4413 0.9989 0.25  ]</td>\n",
       "    </tr>\n",
       "    <tr>\n",
       "      <td>5</td>\n",
       "      <td>(-0.4137, 0.2597, 0.4613, -0.3463, -0.0408)</td>\n",
       "      <td>[3.4743 0.8149 0.25  ]</td>\n",
       "    </tr>\n",
       "    <tr>\n",
       "      <td>6</td>\n",
       "      <td>(0.4124, 0.2546, -0.2049, -0.0035, 0.2845)</td>\n",
       "      <td>[3.3598 1.3618 0.25  ]</td>\n",
       "    </tr>\n",
       "    <tr>\n",
       "      <td>7</td>\n",
       "      <td>(0.273, -0.0413, -0.2412, 0.2292, -0.4313)</td>\n",
       "      <td>[ 3.2972 -1.5038  0.25  ]</td>\n",
       "    </tr>\n",
       "    <tr>\n",
       "      <td>8</td>\n",
       "      <td>(-0.4171, -0.0979, -0.3272, -0.2378, 0.1323)</td>\n",
       "      <td>[ 3.3774 -0.8196  0.25  ]</td>\n",
       "    </tr>\n",
       "    <tr>\n",
       "      <td>9</td>\n",
       "      <td>(-0.165, 0.3236, -0.2667, -0.0649, -0.0461)</td>\n",
       "      <td>[3.663  0.0381 0.25  ]</td>\n",
       "    </tr>\n",
       "  </tbody>\n",
       "</table>\n",
       "</div>"
      ],
      "text/plain": [
       "                                         Angles                         XY\n",
       "0  (0.3514, -0.2365, -0.1968, -0.1949, -0.0863)  [ 3.3793 -1.2376  0.25  ]\n",
       "1     (0.3094, 0.4925, 0.4629, -0.1565, 0.3523)     [2.061  2.5772 0.25  ]\n",
       "2      (0.1157, -0.4121, 0.0578, 0.3772, 0.428)     [3.4905 0.9227 0.25  ]\n",
       "3     (0.339, -0.1037, -0.2424, 0.2975, 0.0062)  [ 3.6355 -0.1753  0.25  ]\n",
       "4    (0.2312, -0.4059, -0.0095, 0.4335, 0.4635)     [3.4413 0.9989 0.25  ]\n",
       "5   (-0.4137, 0.2597, 0.4613, -0.3463, -0.0408)     [3.4743 0.8149 0.25  ]\n",
       "6    (0.4124, 0.2546, -0.2049, -0.0035, 0.2845)     [3.3598 1.3618 0.25  ]\n",
       "7    (0.273, -0.0413, -0.2412, 0.2292, -0.4313)  [ 3.2972 -1.5038  0.25  ]\n",
       "8  (-0.4171, -0.0979, -0.3272, -0.2378, 0.1323)  [ 3.3774 -0.8196  0.25  ]\n",
       "9   (-0.165, 0.3236, -0.2667, -0.0649, -0.0461)     [3.663  0.0381 0.25  ]"
      ]
     },
     "execution_count": 88,
     "metadata": {},
     "output_type": "execute_result"
    }
   ],
   "source": [
    "data.head(10)"
   ]
  },
  {
   "cell_type": "code",
   "execution_count": 89,
   "metadata": {},
   "outputs": [],
   "source": [
    "train = data['Angles'].to_numpy()\n",
    "labels = data['XY'].to_numpy()"
   ]
  },
  {
   "cell_type": "code",
   "execution_count": 90,
   "metadata": {},
   "outputs": [],
   "source": [
    "X = list()\n",
    "Y = list()\n",
    "for i in range(len(train)):\n",
    "    labels[i] = labels[i].replace('   ', ' ')\n",
    "    labels[i] = labels[i].replace('  ', ' ')\n",
    "    labels[i] = labels[i].strip('[ ').strip(' ]')\n",
    "    train[i] = train[i].strip('(').strip(')')\n",
    "    result = [float(val) for val in train[i].split(',')]\n",
    "    X.append(result)\n",
    "    result = [float(val) for val in labels[i].split(' ')]\n",
    "    Y.append(result)"
   ]
  },
  {
   "cell_type": "code",
   "execution_count": 91,
   "metadata": {},
   "outputs": [],
   "source": [
    "X_train, X_test, y_train, y_test = train_test_split(np.asarray(X), np.asarray(Y), test_size=0.80)"
   ]
  },
  {
   "cell_type": "code",
   "execution_count": 92,
   "metadata": {},
   "outputs": [
    {
     "name": "stdout",
     "output_type": "stream",
     "text": [
      "(200, 5)\n",
      "(200, 3)\n",
      "(801, 5)\n",
      "(801, 3)\n"
     ]
    }
   ],
   "source": [
    "print(np.shape(X_train))\n",
    "print(np.shape(y_train))\n",
    "print(np.shape(X_test))\n",
    "print(np.shape(y_test))"
   ]
  },
  {
   "cell_type": "code",
   "execution_count": 94,
   "metadata": {},
   "outputs": [],
   "source": [
    "y_train = np.delete(y_train, 2, 1)\n",
    "y_test = np.delete(y_test, 2, 1)"
   ]
  },
  {
   "cell_type": "code",
   "execution_count": 95,
   "metadata": {},
   "outputs": [],
   "source": [
    "def rmse(y_true, y_pred):\n",
    "    return K.sqrt(K.mean(K.square(y_pred - y_true)))\n",
    "\n",
    "model = Sequential()\n",
    "model.add(Dense(10, input_dim =5, activation = 'relu'))\n",
    "model.add(Dense(16, activation = 'relu'))\n",
    "model.add(Dense(2, activation='linear'))\n",
    "model.compile(loss=rmse, optimizer=Adam(0.01))"
   ]
  },
  {
   "cell_type": "code",
   "execution_count": 96,
   "metadata": {},
   "outputs": [
    {
     "name": "stdout",
     "output_type": "stream",
     "text": [
      "_________________________________________________________________\n",
      "Layer (type)                 Output Shape              Param #   \n",
      "=================================================================\n",
      "dense_15 (Dense)             (None, 10)                60        \n",
      "_________________________________________________________________\n",
      "dense_16 (Dense)             (None, 16)                176       \n",
      "_________________________________________________________________\n",
      "dense_17 (Dense)             (None, 2)                 34        \n",
      "=================================================================\n",
      "Total params: 270\n",
      "Trainable params: 270\n",
      "Non-trainable params: 0\n",
      "_________________________________________________________________\n"
     ]
    }
   ],
   "source": [
    "model.summary()"
   ]
  },
  {
   "cell_type": "code",
   "execution_count": 101,
   "metadata": {},
   "outputs": [
    {
     "name": "stdout",
     "output_type": "stream",
     "text": [
      "Epoch 1/15\n",
      "200/200 [==============================] - 0s 65us/step - loss: 0.1675\n",
      "Epoch 2/15\n",
      "200/200 [==============================] - 0s 65us/step - loss: 0.1577\n",
      "Epoch 3/15\n",
      "200/200 [==============================] - 0s 90us/step - loss: 0.1444\n",
      "Epoch 4/15\n",
      "200/200 [==============================] - 0s 55us/step - loss: 0.1363\n",
      "Epoch 5/15\n",
      "200/200 [==============================] - 0s 75us/step - loss: 0.1352\n",
      "Epoch 6/15\n",
      "200/200 [==============================] - 0s 65us/step - loss: 0.1236\n",
      "Epoch 7/15\n",
      "200/200 [==============================] - 0s 50us/step - loss: 0.1244\n",
      "Epoch 8/15\n",
      "200/200 [==============================] - 0s 65us/step - loss: 0.1318\n",
      "Epoch 9/15\n",
      "200/200 [==============================] - 0s 50us/step - loss: 0.1199\n",
      "Epoch 10/15\n",
      "200/200 [==============================] - 0s 50us/step - loss: 0.1054\n",
      "Epoch 11/15\n",
      "200/200 [==============================] - 0s 55us/step - loss: 0.1194\n",
      "Epoch 12/15\n",
      "200/200 [==============================] - 0s 45us/step - loss: 0.1117\n",
      "Epoch 13/15\n",
      "200/200 [==============================] - 0s 55us/step - loss: 0.1062\n",
      "Epoch 14/15\n",
      "200/200 [==============================] - 0s 60us/step - loss: 0.1015\n",
      "Epoch 15/15\n",
      "200/200 [==============================] - 0s 60us/step - loss: 0.0899\n"
     ]
    },
    {
     "data": {
      "text/plain": [
       "<keras.callbacks.History at 0x2f31c787f08>"
      ]
     },
     "execution_count": 101,
     "metadata": {},
     "output_type": "execute_result"
    }
   ],
   "source": [
    "model.fit(X_train, y_train, epochs = 15)"
   ]
  },
  {
   "cell_type": "code",
   "execution_count": 102,
   "metadata": {},
   "outputs": [
    {
     "name": "stdout",
     "output_type": "stream",
     "text": [
      "RMSE: 0.10\n"
     ]
    }
   ],
   "source": [
    "scores = model.evaluate(X_test, y_test, verbose=0) \n",
    "print(\"RMSE: %.2f\" % (scores))"
   ]
  },
  {
   "cell_type": "code",
   "execution_count": 99,
   "metadata": {},
   "outputs": [
    {
     "name": "stdout",
     "output_type": "stream",
     "text": [
      "[[3.5124414  0.14231743]]\n",
      "[3.615  0.2661]\n"
     ]
    }
   ],
   "source": [
    "print(model.predict(X_train[10].reshape(1,5)))\n",
    "print(y_train[10])"
   ]
  }
 ],
 "metadata": {
  "kernelspec": {
   "display_name": "Python 3",
   "language": "python",
   "name": "python3"
  },
  "language_info": {
   "codemirror_mode": {
    "name": "ipython",
    "version": 3
   },
   "file_extension": ".py",
   "mimetype": "text/x-python",
   "name": "python",
   "nbconvert_exporter": "python",
   "pygments_lexer": "ipython3",
   "version": "3.7.4"
  }
 },
 "nbformat": 4,
 "nbformat_minor": 4
}
